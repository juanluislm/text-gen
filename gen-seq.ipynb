{
 "cells": [
  {
   "cell_type": "code",
   "execution_count": 1,
   "metadata": {},
   "outputs": [
    {
     "name": "stderr",
     "output_type": "stream",
     "text": [
      "Using TensorFlow backend.\n"
     ]
    }
   ],
   "source": [
    "from random import randint\n",
    "from pickle import load\n",
    "from keras.models import load_model\n",
    "from keras.preprocessing.sequence import pad_sequences\n",
    " \n",
    "# load doc into memory\n",
    "def load_doc(filename):\n",
    "    # open the file as read only\n",
    "    file = open(filename, 'r')\n",
    "    # read all text\n",
    "    text = file.read()\n",
    "    # close the file\n",
    "    file.close()\n",
    "    return text\n",
    " \n",
    "# generate a sequence from a language model\n",
    "def generate_seq(model, tokenizer, seq_length, seed_text, n_words):\n",
    "    result = list()\n",
    "    in_text = seed_text\n",
    "    # generate a fixed number of words\n",
    "    for _ in range(n_words):\n",
    "        # encode the text as integer\n",
    "        encoded = tokenizer.texts_to_sequences([in_text])[0]\n",
    "        # truncate sequences to a fixed length\n",
    "        encoded = pad_sequences([encoded], maxlen=seq_length, truncating='pre')\n",
    "        # predict probabilities for each word\n",
    "        yhat = model.predict_classes(encoded, verbose=0)\n",
    "        # map predicted word index to word\n",
    "        out_word = ''\n",
    "        for word, index in tokenizer.word_index.items():\n",
    "            if index == yhat:\n",
    "                out_word = word\n",
    "                break\n",
    "        # append to input\n",
    "        in_text += ' ' + out_word\n",
    "        result.append(out_word)\n",
    "    return ' '.join(result)\n",
    " \n",
    "# load cleaned text sequences\n",
    "in_filename = 'republic_sequences.txt'\n",
    "doc = load_doc(in_filename)\n",
    "lines = doc.split('\\n')\n",
    "seq_length = len(lines[0].split()) - 1\n",
    " \n",
    "# load the model\n",
    "model = load_model('model.h5')\n",
    " \n",
    "# load the tokenizer\n",
    "tokenizer = load(open('tokenizer.pkl', 'rb'))"
   ]
  },
  {
   "cell_type": "code",
   "execution_count": 3,
   "metadata": {},
   "outputs": [
    {
     "name": "stdout",
     "output_type": "stream",
     "text": [
      "prompt\n",
      "wisdom and whose followers are to this day quite celebrated for the order which was named after him nothing of the kind is recorded of him for surely socrates creophylus the companion of homer that child of flesh whose name always makes us laugh might be more justly ridiculed for his\n",
      "\n",
      "response\n",
      "stupidity if the soul is to the same thing in the state and the other of the state in the state of the state and the other of the state in the state of the state and the other of the state in the state of the state and the\n",
      "prompt\n",
      "fairly be incurred yes very important this then must be our first step to make our children spectators of war but we must also contrive that they shall be secured against danger then all will be well true their parents may be supposed not to be blind to the risks of\n",
      "\n",
      "response\n",
      "the soul and in the state and the other of the state in the state of the state and the other of the state in the state of the state and the other of the state in the state of the state and the other of the state in the\n",
      "prompt\n",
      "culture which they have never received but we have brought you into the world to be rulers of the hive kings of yourselves and of the other citizens and have educated you far better and more perfectly than they have been educated and you are better able to share in the\n",
      "\n",
      "response\n",
      "state but when they are to be the same thing in the state and the other of the state in the state of the state and the other of the state in the state of the state and the other of the state in the state of the state and\n",
      "prompt\n",
      "this way they will get an excellent view of what is hereafter to be their own business and if there is danger they have only to follow their elder leaders and escape i believe that you are right he said next as to war what are to be the relations of\n",
      "\n",
      "response\n",
      "the state and the other of the state in the state of the state and the other of the state in the state of the state and the other of the state in the state of the state and the other of the state in the state of the state\n",
      "prompt\n",
      "the poets only to be required by us to express the image of the good in their works on pain if they do anything else of expulsion from our state or is the same control to be extended to other artists and are they also to be prohibited from exhibiting the\n",
      "\n",
      "response\n",
      "same time for they are to be the same thing in the state and the other of the state in the state of the state and the other of the state in the state of the state and the other of the state in the state of the state and\n"
     ]
    }
   ],
   "source": [
    "for i in range(0,5):\n",
    "    # select a seed text\n",
    "    seed_text = lines[randint(0,len(lines))]\n",
    "    print(\"prompt\")\n",
    "    print(seed_text + '\\n')\n",
    "\n",
    "    # generate new text\n",
    "    print(\"response\")\n",
    "    generated = generate_seq(model, tokenizer, seq_length, seed_text, 50)\n",
    "    print(generated)"
   ]
  },
  {
   "cell_type": "code",
   "execution_count": null,
   "metadata": {},
   "outputs": [],
   "source": []
  }
 ],
 "metadata": {
  "kernelspec": {
   "display_name": "Python 3",
   "language": "python",
   "name": "python3"
  },
  "language_info": {
   "codemirror_mode": {
    "name": "ipython",
    "version": 3
   },
   "file_extension": ".py",
   "mimetype": "text/x-python",
   "name": "python",
   "nbconvert_exporter": "python",
   "pygments_lexer": "ipython3",
   "version": "3.6.6"
  }
 },
 "nbformat": 4,
 "nbformat_minor": 2
}
